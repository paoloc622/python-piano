{
 "cells": [
  {
   "cell_type": "code",
   "execution_count": 9,
   "metadata": {},
   "outputs": [
    {
     "name": "stdout",
     "output_type": "stream",
     "text": [
      "A1.wav\n",
      "1\n",
      "A6.wav\n",
      "1\n",
      "B5.wav\n",
      "1\n",
      "myfile.wav\n",
      "1\n"
     ]
    }
   ],
   "source": [
    "import os\n",
    "temp1 = \"temp1.wav\"\n",
    "temp2 = \"temp2.wav\"\n",
    "temp3 = \"temp3.wav\"\n",
    "all_files = [x for x in os.listdir(\".\")]\n",
    "for file in all_files:\n",
    "    if file.endswith(\".wav\"):\n",
    "        print(file)\n",
    "        print(os.system(\"ffmpeg -i \" + file + \" -af silenceremove=1:0:-48dB samples/\" + file))\n"
   ]
  },
  {
   "cell_type": "code",
   "execution_count": null,
   "metadata": {},
   "outputs": [],
   "source": []
  }
 ],
 "metadata": {
  "kernelspec": {
   "display_name": "Python 3",
   "language": "python",
   "name": "python3"
  },
  "language_info": {
   "codemirror_mode": {
    "name": "ipython",
    "version": 3
   },
   "file_extension": ".py",
   "mimetype": "text/x-python",
   "name": "python",
   "nbconvert_exporter": "python",
   "pygments_lexer": "ipython3",
   "version": "3.7.1"
  }
 },
 "nbformat": 4,
 "nbformat_minor": 2
}
